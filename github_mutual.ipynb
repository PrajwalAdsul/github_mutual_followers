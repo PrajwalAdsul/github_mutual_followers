{
 "cells": [
  {
   "cell_type": "code",
   "execution_count": 38,
   "metadata": {
    "ExecuteTime": {
     "end_time": "2019-06-21T15:50:38.897415Z",
     "start_time": "2019-06-21T15:50:25.942120Z"
    }
   },
   "outputs": [
    {
     "name": "stdout",
     "output_type": "stream",
     "text": [
      "prajwaladsul\n",
      "gauravmandke\n",
      "\n"
     ]
    }
   ],
   "source": [
    "#%%time\n",
    "from bs4 import BeautifulSoup \n",
    "import requests \n",
    "\n",
    "#fabpot andrew\n",
    "name1 = input()\n",
    "name2 = input()\n",
    "print()\n",
    "\n",
    "s = set()\n",
    "\n",
    "url = \"https://github.com/\" + name1 + \"?tab=followers\"\n",
    "\n",
    "page = requests.get(url)\n",
    "soup = BeautifulSoup(page.content, 'html.parser') \n",
    "txtlist1 = soup.find_all(\"span\", class_=\"f4 link-gray-dark\")\n",
    "list1 = list()\n",
    "for i in txtlist1:\n",
    "    i = str(i)\n",
    "    i = i.split('>')\n",
    "    i = i[1].split('<')\n",
    "    i = i[0]\n",
    "    list1.append(str(i)) \n",
    "    s.add(str(i))\n",
    "\n",
    "url = \"https://github.com/\" + name2 + \"?tab=followers\"\n",
    "page = requests.get(url)\n",
    "soup = BeautifulSoup(page.content, 'html.parser') \n",
    "txtlist2 = soup.find_all(\"span\", class_=\"f4 link-gray-dark\") \n",
    "list2 =list() \n",
    "for i in txtlist2: \n",
    "    i = str(i) \n",
    "    i = i.split('>') \n",
    "    i = i[1].split('<')\n",
    "    i = i[0] \n",
    "    list2.append(str(i))\n",
    "    if str(i) in s:\n",
    "        if len(str(i)) > 0:\n",
    "            print(str(i))\n",
    "    "
   ]
  }
 ],
 "metadata": {
  "kernelspec": {
   "display_name": "Python 3",
   "language": "python",
   "name": "python3"
  },
  "language_info": {
   "codemirror_mode": {
    "name": "ipython",
    "version": 3
   },
   "file_extension": ".py",
   "mimetype": "text/x-python",
   "name": "python",
   "nbconvert_exporter": "python",
   "pygments_lexer": "ipython3",
   "version": "3.7.1"
  }
 },
 "nbformat": 4,
 "nbformat_minor": 2
}
